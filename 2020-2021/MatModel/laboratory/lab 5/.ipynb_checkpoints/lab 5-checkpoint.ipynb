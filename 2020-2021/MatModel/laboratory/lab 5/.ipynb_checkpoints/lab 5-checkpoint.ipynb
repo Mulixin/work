{
 "cells": [
  {
   "cell_type": "code",
   "execution_count": null,
   "metadata": {},
   "outputs": [],
   "source": [
    "import numpy as np\n",
    "from scipy.integrate import odeint\n",
    "import matplotlib.pyplot as plt\n",
    "import math\n",
    "\n",
    "a = 0.19\n",
    "b = 0.026\n",
    "c = 0.18\n",
    "d = 0.032\n",
    "\n",
    "y0 = [3, 8]\n",
    "\n",
    "def syst (y, t):\n",
    "    y1, y2 = y\n",
    "    return [-a*y1 + b * y1 * y2, c * y2 - d * y1 * y2]\n",
    "\n",
    "t = np.arange (0, 200, 0.1)\n",
    "y = odeint (syst, y0, t)\n",
    "y11 = y[:,0]\n",
    "y21 = y[:,1]\n",
    "\n",
    "fig1 = plt.figure (facecolor='white')\n",
    "plt.plot (t, y11, linewidth = 2)\n",
    "plt.ylabel (\"x\")\n",
    "plt.xlabel (\"t\")\n",
    "plt.grid (True)\n",
    "plt.show ()\n",
    "fig1.savefig('image/01.png', dpi = 600)\n",
    "\n",
    "fig2 = plt.figure (facecolor='white')\n",
    "plt.plot (t, y21, linewidth = 2)\n",
    "plt.ylabel (\"x\")\n",
    "plt.xlabel (\"t\")\n",
    "plt.grid (True)\n",
    "plt.show ()\n",
    "fig2.savefig('image/02.png', dpi = 600)\n",
    "\n",
    "fig3 = plt.figure (facecolor='white')\n",
    "plt.plot (y11, y21, linewidth = 2)\n",
    "plt.ylabel (\"y\")\n",
    "plt.xlabel (\"x\")\n",
    "plt.grid (True)\n",
    "plt.show ()\n",
    "fig3.savefig('image/03.png', dpi = 600)\n",
    "\n",
    "print (\"Xст = \", a/b)\n",
    "print (\"Yст = \", c/d)"
   ]
  },
  {
   "cell_type": "code",
   "execution_count": null,
   "metadata": {},
   "outputs": [],
   "source": []
  },
  {
   "cell_type": "code",
   "execution_count": null,
   "metadata": {},
   "outputs": [],
   "source": []
  }
 ],
 "metadata": {
  "kernelspec": {
   "display_name": "Python 3",
   "language": "python",
   "name": "python3"
  },
  "language_info": {
   "codemirror_mode": {
    "name": "ipython",
    "version": 3
   },
   "file_extension": ".py",
   "mimetype": "text/x-python",
   "name": "python",
   "nbconvert_exporter": "python",
   "pygments_lexer": "ipython3",
   "version": "3.9.0"
  }
 },
 "nbformat": 4,
 "nbformat_minor": 4
}
